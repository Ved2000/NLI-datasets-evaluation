{
  "nbformat": 4,
  "nbformat_minor": 0,
  "metadata": {
    "colab": {
      "name": "Allen_NLP_hans",
      "provenance": [],
      "machine_shape": "hm",
      "authorship_tag": "ABX9TyPBlgJS9f5uQx/QU/y/MpjC",
      "include_colab_link": true
    },
    "kernelspec": {
      "name": "python3",
      "display_name": "Python 3"
    },
    "accelerator": "GPU"
  },
  "cells": [
    {
      "cell_type": "markdown",
      "metadata": {
        "id": "view-in-github",
        "colab_type": "text"
      },
      "source": [
        "<a href=\"https://colab.research.google.com/github/Ved2000/NLI-datasets-evaluation/blob/master/Allen_NLP_hans.ipynb\" target=\"_parent\"><img src=\"https://colab.research.google.com/assets/colab-badge.svg\" alt=\"Open In Colab\"/></a>"
      ]
    },
    {
      "cell_type": "code",
      "metadata": {
        "id": "74yk4gu6Z-sw",
        "colab_type": "code",
        "colab": {}
      },
      "source": [
        "!git clone https://github.com/Ved2000/NLI-datasets-evaluation.git"
      ],
      "execution_count": null,
      "outputs": []
    },
    {
      "cell_type": "code",
      "metadata": {
        "id": "tAgRYShQaImG",
        "colab_type": "code",
        "colab": {
          "base_uri": "https://localhost:8080/",
          "height": 34
        },
        "outputId": "5fbe0750-4ac9-4f55-d44a-2f1f2368ef8e"
      },
      "source": [
        "cd /content/NLI-datasets-evaluation"
      ],
      "execution_count": null,
      "outputs": [
        {
          "output_type": "stream",
          "text": [
            "/content/Preprocessing-SNLI-MNLI-Hans-for-sentence-embeddings\n"
          ],
          "name": "stdout"
        }
      ]
    },
    {
      "cell_type": "code",
      "metadata": {
        "id": "e0uqt7YaPUae",
        "colab_type": "code",
        "colab": {
          "base_uri": "https://localhost:8080/",
          "height": 467
        },
        "outputId": "a59cbd61-7a40-450d-9235-6f879dc5e081"
      },
      "source": [
        "import pandas as pd\n",
        "read_file = pd.read_csv('/content/NLI-datasets-evaluation/Hans .txt',delimiter='\\t')\n",
        "read_file.head()"
      ],
      "execution_count": null,
      "outputs": [
        {
          "output_type": "execute_result",
          "data": {
            "text/html": [
              "<div>\n",
              "<style scoped>\n",
              "    .dataframe tbody tr th:only-of-type {\n",
              "        vertical-align: middle;\n",
              "    }\n",
              "\n",
              "    .dataframe tbody tr th {\n",
              "        vertical-align: top;\n",
              "    }\n",
              "\n",
              "    .dataframe thead th {\n",
              "        text-align: right;\n",
              "    }\n",
              "</style>\n",
              "<table border=\"1\" class=\"dataframe\">\n",
              "  <thead>\n",
              "    <tr style=\"text-align: right;\">\n",
              "      <th></th>\n",
              "      <th>gold_label</th>\n",
              "      <th>sentence1_binary_parse</th>\n",
              "      <th>sentence2_binary_parse</th>\n",
              "      <th>sentence1_parse</th>\n",
              "      <th>sentence2_parse</th>\n",
              "      <th>sentence1</th>\n",
              "      <th>sentence2</th>\n",
              "      <th>pairID</th>\n",
              "      <th>heuristic</th>\n",
              "      <th>subcase</th>\n",
              "      <th>template</th>\n",
              "    </tr>\n",
              "  </thead>\n",
              "  <tbody>\n",
              "    <tr>\n",
              "      <th>0</th>\n",
              "      <td>non-entailment</td>\n",
              "      <td>( ( The president ) ( ( advised ( the doctor )...</td>\n",
              "      <td>( ( The doctor ) ( ( advised ( the president )...</td>\n",
              "      <td>(ROOT (S (NP (DT The) (NN president)) (VP (VBD...</td>\n",
              "      <td>(ROOT (S (NP (DT The) (NN doctor)) (VP (VBD ad...</td>\n",
              "      <td>The president advised the doctor .</td>\n",
              "      <td>The doctor advised the president .</td>\n",
              "      <td>ex0</td>\n",
              "      <td>lexical_overlap</td>\n",
              "      <td>ln_subject/object_swap</td>\n",
              "      <td>temp1</td>\n",
              "    </tr>\n",
              "    <tr>\n",
              "      <th>1</th>\n",
              "      <td>non-entailment</td>\n",
              "      <td>( ( The student ) ( ( saw ( the managers ) ) ....</td>\n",
              "      <td>( ( The managers ) ( ( saw ( the student ) ) ....</td>\n",
              "      <td>(ROOT (S (NP (DT The) (NN student)) (VP (VBD s...</td>\n",
              "      <td>(ROOT (S (NP (DT The) (NNS managers)) (VP (VBD...</td>\n",
              "      <td>The student saw the managers .</td>\n",
              "      <td>The managers saw the student .</td>\n",
              "      <td>ex1</td>\n",
              "      <td>lexical_overlap</td>\n",
              "      <td>ln_subject/object_swap</td>\n",
              "      <td>temp1</td>\n",
              "    </tr>\n",
              "    <tr>\n",
              "      <th>2</th>\n",
              "      <td>non-entailment</td>\n",
              "      <td>( ( The presidents ) ( ( encouraged ( the bank...</td>\n",
              "      <td>( ( The banker ) ( ( encouraged ( the presiden...</td>\n",
              "      <td>(ROOT (S (NP (DT The) (NNS presidents)) (VP (V...</td>\n",
              "      <td>(ROOT (S (NP (DT The) (NN banker)) (VP (VBD en...</td>\n",
              "      <td>The presidents encouraged the banker .</td>\n",
              "      <td>The banker encouraged the presidents .</td>\n",
              "      <td>ex2</td>\n",
              "      <td>lexical_overlap</td>\n",
              "      <td>ln_subject/object_swap</td>\n",
              "      <td>temp1</td>\n",
              "    </tr>\n",
              "    <tr>\n",
              "      <th>3</th>\n",
              "      <td>non-entailment</td>\n",
              "      <td>( ( The senators ) ( ( supported ( the actor )...</td>\n",
              "      <td>( ( The actor ) ( ( supported ( the senators )...</td>\n",
              "      <td>(ROOT (S (NP (DT The) (NNS senators)) (VP (VBD...</td>\n",
              "      <td>(ROOT (S (NP (DT The) (NN actor)) (VP (VBD sup...</td>\n",
              "      <td>The senators supported the actor .</td>\n",
              "      <td>The actor supported the senators .</td>\n",
              "      <td>ex3</td>\n",
              "      <td>lexical_overlap</td>\n",
              "      <td>ln_subject/object_swap</td>\n",
              "      <td>temp1</td>\n",
              "    </tr>\n",
              "    <tr>\n",
              "      <th>4</th>\n",
              "      <td>non-entailment</td>\n",
              "      <td>( ( The actors ) ( ( avoided ( the bankers ) )...</td>\n",
              "      <td>( ( The bankers ) ( ( avoided ( the actors ) )...</td>\n",
              "      <td>(ROOT (S (NP (DT The) (NNS actors)) (VP (VBD a...</td>\n",
              "      <td>(ROOT (S (NP (DT The) (NNS bankers)) (VP (VBD ...</td>\n",
              "      <td>The actors avoided the bankers .</td>\n",
              "      <td>The bankers avoided the actors .</td>\n",
              "      <td>ex4</td>\n",
              "      <td>lexical_overlap</td>\n",
              "      <td>ln_subject/object_swap</td>\n",
              "      <td>temp1</td>\n",
              "    </tr>\n",
              "  </tbody>\n",
              "</table>\n",
              "</div>"
            ],
            "text/plain": [
              "       gold_label  ... template\n",
              "0  non-entailment  ...    temp1\n",
              "1  non-entailment  ...    temp1\n",
              "2  non-entailment  ...    temp1\n",
              "3  non-entailment  ...    temp1\n",
              "4  non-entailment  ...    temp1\n",
              "\n",
              "[5 rows x 11 columns]"
            ]
          },
          "metadata": {
            "tags": []
          },
          "execution_count": 5
        }
      ]
    },
    {
      "cell_type": "code",
      "metadata": {
        "id": "IVYFYvSGRjxN",
        "colab_type": "code",
        "colab": {}
      },
      "source": [
        "labels_true=[]\n",
        "for i in read_file['gold_label']:\n",
        "  if i=='entailment':\n",
        "    labels_true.append(1)\n",
        "  else:\n",
        "    labels_true.append(0)"
      ],
      "execution_count": null,
      "outputs": []
    },
    {
      "cell_type": "code",
      "metadata": {
        "id": "ho_1oIB4Sh6H",
        "colab_type": "code",
        "colab": {
          "base_uri": "https://localhost:8080/",
          "height": 34
        },
        "outputId": "0cc64cf5-1a28-4368-d09c-505d3e0074e3"
      },
      "source": [
        "read_file[]"
      ],
      "execution_count": null,
      "outputs": [
        {
          "output_type": "execute_result",
          "data": {
            "text/plain": [
              "30000"
            ]
          },
          "metadata": {
            "tags": []
          },
          "execution_count": 7
        }
      ]
    },
    {
      "cell_type": "code",
      "metadata": {
        "id": "lm-B2TX_tioA",
        "colab_type": "code",
        "colab": {}
      },
      "source": [
        "pip install allennlp==1.0.0 allennlp-models==1.0.0"
      ],
      "execution_count": null,
      "outputs": []
    },
    {
      "cell_type": "code",
      "metadata": {
        "id": "Q-5BpCYoVINJ",
        "colab_type": "code",
        "colab": {}
      },
      "source": [
        "from allennlp.predictors.predictor import Predictor\n",
        "import allennlp_models.pair_classification\n",
        "import numpy as np\n",
        "\n",
        "predictor = Predictor.from_path(\"https://storage.googleapis.com/allennlp-public-models/decomposable-attention-elmo-2020.04.09.tar.gz\", \"textual_entailment\",cuda_device=0)\n",
        "for i in range(30000):\n",
        "  a=predictor.predict(\n",
        "  hypothesis=read_file[\"sentences1\"][i],\n",
        "  premise=read_file[\"sentences2\"][i]\n",
        "  )\n",
        "  b=np.array(a['label_probs'])\n",
        "  if np.argmax(b)==0:\n",
        "    labels_predi.append(1)\n",
        "    f.write(\"1 \\n\")\n",
        "  else:\n",
        "    labels_predi.append(0)\n",
        "    f.write(\"0 \\n\")\n",
        "  print(i)"
      ],
      "execution_count": null,
      "outputs": []
    },
    {
      "cell_type": "code",
      "metadata": {
        "id": "sWTHQHv7XluR",
        "colab_type": "code",
        "colab": {
          "base_uri": "https://localhost:8080/",
          "height": 168
        },
        "outputId": "db6ab2df-9740-40e1-d5d6-f4b25102a2d0"
      },
      "source": [
        "from sklearn.metrics import classification_report\n",
        "print(classification_report(labels_true, labels_predi))"
      ],
      "execution_count": null,
      "outputs": [
        {
          "output_type": "stream",
          "text": [
            "              precision    recall  f1-score   support\n",
            "\n",
            "           0       0.49      0.56      0.52     15000\n",
            "           1       0.48      0.41      0.44     15000\n",
            "\n",
            "    accuracy                           0.49     30000\n",
            "   macro avg       0.49      0.49      0.48     30000\n",
            "weighted avg       0.49      0.49      0.48     30000\n",
            "\n"
          ],
          "name": "stdout"
        }
      ]
    }
  ]
}