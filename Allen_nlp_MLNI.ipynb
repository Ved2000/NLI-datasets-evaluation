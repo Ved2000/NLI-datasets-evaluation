{
  "nbformat": 4,
  "nbformat_minor": 0,
  "metadata": {
    "colab": {
      "name": "Allen_nlp_MLNI.ipynb",
      "provenance": [],
      "authorship_tag": "ABX9TyNBp5QThyFgfXPlCjFEXHc9",
      "include_colab_link": true
    },
    "kernelspec": {
      "name": "python3",
      "display_name": "Python 3"
    },
    "accelerator": "GPU"
  },
  "cells": [
    {
      "cell_type": "markdown",
      "metadata": {
        "id": "view-in-github",
        "colab_type": "text"
      },
      "source": [
        "<a href=\"https://colab.research.google.com/github/Ved2000/NLI-datasets-evaluation/blob/master/Allen_nlp_MLNI.ipynb\" target=\"_parent\"><img src=\"https://colab.research.google.com/assets/colab-badge.svg\" alt=\"Open In Colab\"/></a>"
      ]
    },
    {
      "cell_type": "code",
      "metadata": {
        "id": "Rcw0BGcSQ8RR",
        "colab_type": "code",
        "colab": {}
      },
      "source": [
        "!git clone https://github.com/Ved2000/Preprocessing-SNLI-MNLI-Hans-for-sentence-embeddings.git"
      ],
      "execution_count": null,
      "outputs": []
    },
    {
      "cell_type": "code",
      "metadata": {
        "id": "nnG2wdJoQ-s8",
        "colab_type": "code",
        "colab": {
          "base_uri": "https://localhost:8080/",
          "height": 34
        },
        "outputId": "74fd80a0-1428-46ab-8df2-025ccde08ca6"
      },
      "source": [
        "cd /content/Preprocessing-SNLI-MNLI-Hans-for-sentence-embeddings"
      ],
      "execution_count": null,
      "outputs": [
        {
          "output_type": "stream",
          "text": [
            "/content/Preprocessing-SNLI-MNLI-Hans-for-sentence-embeddings\n"
          ],
          "name": "stdout"
        }
      ]
    },
    {
      "cell_type": "code",
      "metadata": {
        "id": "4UxhoQ3KRIg1",
        "colab_type": "code",
        "colab": {}
      },
      "source": [
        "!chmod u+r+x get_transfer_data.bash\n",
        "!./get_transfer_data.bash"
      ],
      "execution_count": null,
      "outputs": []
    },
    {
      "cell_type": "code",
      "metadata": {
        "id": "3a0H-SdcRO1B",
        "colab_type": "code",
        "colab": {
          "base_uri": "https://localhost:8080/",
          "height": 34
        },
        "outputId": "f374d5bb-b37b-46a2-80ff-bca2f88c22a3"
      },
      "source": [
        "cd /content/Preprocessing-SNLI-MNLI-Hans-for-sentence-embeddings/MNLI"
      ],
      "execution_count": null,
      "outputs": [
        {
          "output_type": "stream",
          "text": [
            "/content/Preprocessing-SNLI-MNLI-Hans-for-sentence-embeddings/MNLI\n"
          ],
          "name": "stdout"
        }
      ]
    },
    {
      "cell_type": "code",
      "metadata": {
        "id": "6Ff8UZeWRr1y",
        "colab_type": "code",
        "colab": {}
      },
      "source": [
        "!cat s1.dev_matched s1.dev_mismatched s1.train > hypo.txt\n",
        "!cat labels.dev_matched labels.dev_mismatched labels.train > labels.txt\n",
        "!cat s2.dev_matched s2.dev_mismatched s2.train > pre.txt"
      ],
      "execution_count": null,
      "outputs": []
    },
    {
      "cell_type": "code",
      "metadata": {
        "id": "iuiLYHHER-CI",
        "colab_type": "code",
        "colab": {}
      },
      "source": [
        "!sed -i 's/neutral/non entailment/g' labels.txt\n",
        "!sed -i 's/contradiction/non entailment/g' labels.txt"
      ],
      "execution_count": null,
      "outputs": []
    },
    {
      "cell_type": "code",
      "metadata": {
        "id": "rlptTzV9SIuS",
        "colab_type": "code",
        "colab": {}
      },
      "source": [
        "def file_read(fname):\n",
        "        content_array = []\n",
        "        with open(fname) as f:\n",
        "                #Content_list is the list that contains the read lines.     \n",
        "                for line in f:\n",
        "                        content_array.append(line)\n",
        "                return(content_array)\n",
        "\n",
        "pre=file_read('/content/Preprocessing-SNLI-MNLI-Hans-for-sentence-embeddings/MNLI/pre.txt')\n",
        "hypo=file_read('/content/Preprocessing-SNLI-MNLI-Hans-for-sentence-embeddings/MNLI/hypo.txt')\n",
        "labels=file_read('/content/Preprocessing-SNLI-MNLI-Hans-for-sentence-embeddings/MNLI/labels.txt')"
      ],
      "execution_count": null,
      "outputs": []
    },
    {
      "cell_type": "code",
      "metadata": {
        "id": "6uIZKsxKSNbC",
        "colab_type": "code",
        "colab": {}
      },
      "source": [
        "pip install allennlp==1.0.0 allennlp-models==1.0.0"
      ],
      "execution_count": null,
      "outputs": []
    },
    {
      "cell_type": "code",
      "metadata": {
        "id": "o0VvW3eoknsS",
        "colab_type": "code",
        "colab": {}
      },
      "source": [
        "labels_predi=[]"
      ],
      "execution_count": null,
      "outputs": []
    },
    {
      "cell_type": "code",
      "metadata": {
        "id": "IHVDDFrjSXwO",
        "colab_type": "code",
        "colab": {}
      },
      "source": [
        "from allennlp.predictors.predictor import Predictor\n",
        "import allennlp_models.pair_classification\n",
        "import numpy as np\n",
        "\n",
        "predictor = Predictor.from_path(\"https://storage.googleapis.com/allennlp-public-models/decomposable-attention-elmo-2020.04.09.tar.gz\", \"textual_entailment\",cuda_device=0)\n",
        "for i in range(100000):\n",
        "  a=predictor.predict(\n",
        "  hypothesis=hypo[i],\n",
        "  premise=pre[i]\n",
        "  )\n",
        "  b=np.array(a['label_probs'])\n",
        "  if np.argmax(b)==0:\n",
        "    labels_predi.append('entailment')\n",
        "  else:\n",
        "    labels_predi.append('non entailment')\n",
        "  print(i)"
      ],
      "execution_count": null,
      "outputs": []
    },
    {
      "cell_type": "code",
      "metadata": {
        "id": "43k6V3tpjPhi",
        "colab_type": "code",
        "colab": {
          "base_uri": "https://localhost:8080/",
          "height": 34
        },
        "outputId": "9be34d2a-80b0-4d9f-89e6-5907a699f0c3"
      },
      "source": [
        "if labels[8]=='non entailment\\n':\n",
        "  print('yes')\n"
      ],
      "execution_count": null,
      "outputs": [
        {
          "output_type": "stream",
          "text": [
            "yes\n"
          ],
          "name": "stdout"
        }
      ]
    },
    {
      "cell_type": "code",
      "metadata": {
        "id": "MrrgB1CRS5Zt",
        "colab_type": "code",
        "colab": {}
      },
      "source": [
        "f=[]\n",
        "g=[]\n",
        "for i in range(100000):\n",
        "  f.append(0)\n",
        "  g.append(0)\n",
        "for i in range(100000):\n",
        "  if labels[i]=='non entailment\\n':\n",
        "    f[i]=0\n",
        "  else:\n",
        "    f[i]=1\n",
        "for i in range(100000):\n",
        "  if labels_predi[i]=='non entailment':\n",
        "    g[i]=0\n",
        "  else:\n",
        "    g[i]=1\n",
        "  \n",
        "\n",
        "from sklearn.metrics import classification_report\n",
        "y_true = f\n",
        "y_pred = g\n",
        "print(classification_report(y_true, y_pred))"
      ],
      "execution_count": null,
      "outputs": []
    }
  ]
}