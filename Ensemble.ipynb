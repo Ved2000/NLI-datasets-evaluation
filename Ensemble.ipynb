{
  "nbformat": 4,
  "nbformat_minor": 0,
  "metadata": {
    "colab": {
      "name": "Ensemble.ipynb",
      "provenance": [],
      "authorship_tag": "ABX9TyO9eMFT2HfrPGM4UYZoB7Tj",
      "include_colab_link": true
    },
    "kernelspec": {
      "name": "python3",
      "display_name": "Python 3"
    }
  },
  "cells": [
    {
      "cell_type": "markdown",
      "metadata": {
        "id": "view-in-github",
        "colab_type": "text"
      },
      "source": [
        "<a href=\"https://colab.research.google.com/github/Ved2000/NLI-datasets-evaluation/blob/master/Ensemble.ipynb\" target=\"_parent\"><img src=\"https://colab.research.google.com/assets/colab-badge.svg\" alt=\"Open In Colab\"/></a>"
      ]
    },
    {
      "cell_type": "code",
      "metadata": {
        "id": "PBgf9xKcFm25",
        "colab_type": "code",
        "colab": {}
      },
      "source": [
        "from sklearn.linear_model import LinearRegression\n",
        "regr = LinearRegression()"
      ],
      "execution_count": null,
      "outputs": []
    },
    {
      "cell_type": "code",
      "metadata": {
        "id": "hWE0csoRFti7",
        "colab_type": "code",
        "colab": {
          "base_uri": "https://localhost:8080/",
          "height": 34
        },
        "outputId": "b0af8997-7a96-4682-9e19-5eb7820cd827"
      },
      "source": [
        "import numpy as np\n",
        "labels= []\n",
        "with open('labels.train') as f:\n",
        "    for line in f:\n",
        "        labels.append(line.strip())\n",
        "print(len(labels))\n",
        "a=np.array((559191,2))\n",
        "lab1= []\n",
        "with open('result_allen.txt') as f:\n",
        "    for line in f:\n",
        "        lab1.append(line.strip())\n",
        "lab2= []\n",
        "with open('result_infersent.txt') as f:\n",
        "    for line in f:\n",
        "        lab2.append(line.strip())\n",
        "\n",
        "\n"
      ],
      "execution_count": null,
      "outputs": [
        {
          "output_type": "stream",
          "text": [
            "559191\n"
          ],
          "name": "stdout"
        }
      ]
    },
    {
      "cell_type": "code",
      "metadata": {
        "id": "nNK3H0TqG5h5",
        "colab_type": "code",
        "colab": {}
      },
      "source": [
        "labels = list(map(int, labels))\n",
        "lab1 = list(map(int, lab1))\n",
        "lab2 = list(map(int, lab2)) \n",
        "tr1=[]\n",
        "tr2=[]\n",
        "test1=[]\n",
        "test2=[]\n",
        "for i in range(392000):\n",
        "  tr1.append(lab1[i])\n",
        "  tr2.append(lab2[i])\n",
        "\n",
        "for i in range(392000,559191):\n",
        "  test1.append(lab1[i])\n",
        "  test2.append(lab2[i])"
      ],
      "execution_count": null,
      "outputs": []
    },
    {
      "cell_type": "code",
      "metadata": {
        "id": "OQarSFToHbw8",
        "colab_type": "code",
        "colab": {}
      },
      "source": [
        "train=np.zeros((392000,2))"
      ],
      "execution_count": null,
      "outputs": []
    },
    {
      "cell_type": "code",
      "metadata": {
        "id": "FlzdkG1uLFJ3",
        "colab_type": "code",
        "colab": {}
      },
      "source": [
        "for i in range(392000):\n",
        "  train[i][0]=tr1[i]\n",
        "  train[i][1]=tr2[i]"
      ],
      "execution_count": null,
      "outputs": []
    },
    {
      "cell_type": "code",
      "metadata": {
        "id": "k2GULsGr8YXk",
        "colab_type": "code",
        "colab": {
          "base_uri": "https://localhost:8080/",
          "height": 34
        },
        "outputId": "2ab4f50a-32aa-4fa1-e544-e47fd835c150"
      },
      "source": [
        "train[5][0]"
      ],
      "execution_count": null,
      "outputs": [
        {
          "output_type": "execute_result",
          "data": {
            "text/plain": [
              "0.0"
            ]
          },
          "metadata": {
            "tags": []
          },
          "execution_count": 33
        }
      ]
    },
    {
      "cell_type": "code",
      "metadata": {
        "id": "IjzEu5m-8jYZ",
        "colab_type": "code",
        "colab": {}
      },
      "source": [
        "test=np.zeros((167191,2))"
      ],
      "execution_count": null,
      "outputs": []
    },
    {
      "cell_type": "code",
      "metadata": {
        "id": "5Mru4Ylu-ecK",
        "colab_type": "code",
        "colab": {}
      },
      "source": [
        "for i in range(167191):\n",
        "  test[i][0]=test1[i]\n",
        "  test[i][1]=test2[i]"
      ],
      "execution_count": null,
      "outputs": []
    },
    {
      "cell_type": "code",
      "metadata": {
        "id": "rTNngAd4_CKw",
        "colab_type": "code",
        "colab": {}
      },
      "source": [
        "y=[]\n",
        "for i in range(392000):\n",
        "  y.append(labels[i])"
      ],
      "execution_count": null,
      "outputs": []
    },
    {
      "cell_type": "code",
      "metadata": {
        "id": "L3pv0BbP_UBp",
        "colab_type": "code",
        "colab": {
          "base_uri": "https://localhost:8080/",
          "height": 50
        },
        "outputId": "fecfd5f7-b8a1-403b-ce86-2ee31e4a489a"
      },
      "source": [
        "regr.fit(train, y)\n",
        "print(regr.coef_)\n",
        "print(regr.intercept_)"
      ],
      "execution_count": null,
      "outputs": [
        {
          "output_type": "stream",
          "text": [
            "[5.81096043e-05 9.99236158e-01]\n",
            "0.00013236363149560226\n"
          ],
          "name": "stdout"
        }
      ]
    },
    {
      "cell_type": "code",
      "metadata": {
        "id": "8-akHxp0_jNJ",
        "colab_type": "code",
        "colab": {}
      },
      "source": [
        "predi=regr.predict(test)"
      ],
      "execution_count": null,
      "outputs": []
    },
    {
      "cell_type": "code",
      "metadata": {
        "id": "Idu81t99AkPy",
        "colab_type": "code",
        "colab": {}
      },
      "source": [
        "for i in range(167191):\n",
        "  if predi[i]<0.5:\n",
        "    predi[i]=0\n",
        "  else:\n",
        "    predi[i]=1\n",
        "\n",
        "    "
      ],
      "execution_count": null,
      "outputs": []
    },
    {
      "cell_type": "code",
      "metadata": {
        "id": "zEUKI_0g_w8b",
        "colab_type": "code",
        "colab": {}
      },
      "source": [
        "true=[]\n",
        "for i in range(392000,559191):\n",
        "  true.append(labels[i])"
      ],
      "execution_count": null,
      "outputs": []
    },
    {
      "cell_type": "code",
      "metadata": {
        "id": "W19_Ky5i__S3",
        "colab_type": "code",
        "colab": {
          "base_uri": "https://localhost:8080/",
          "height": 168
        },
        "outputId": "d00abd9f-daee-4413-d270-169e28ad01c0"
      },
      "source": [
        "from sklearn.metrics import classification_report\n",
        "print(classification_report(true, predi))"
      ],
      "execution_count": null,
      "outputs": [
        {
          "output_type": "stream",
          "text": [
            "              precision    recall  f1-score   support\n",
            "\n",
            "           0       1.00      1.00      1.00    111296\n",
            "           1       0.99      0.99      0.99     55895\n",
            "\n",
            "    accuracy                           0.99    167191\n",
            "   macro avg       0.99      0.99      0.99    167191\n",
            "weighted avg       0.99      0.99      0.99    167191\n",
            "\n"
          ],
          "name": "stdout"
        }
      ]
    }
  ]
}